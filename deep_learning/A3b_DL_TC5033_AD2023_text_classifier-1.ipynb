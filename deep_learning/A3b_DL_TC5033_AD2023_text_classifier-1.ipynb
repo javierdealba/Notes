{
 "cells": [
  {
   "cell_type": "markdown",
   "id": "940c6dbc",
   "metadata": {},
   "source": [
    "## TC 5033\n",
    "### Word Embeddings\n",
    "\n",
    "<br>\n",
    "\n",
    "#### Activity 3b: Text Classification using RNNs and AG_NEWS dataset in PyTorch\n",
    "<br>\n",
    "\n",
    "- Objective:\n",
    "    - Understand the basics of Recurrent Neural Networks (RNNs) and their application in text classification.\n",
    "    - Learn how to handle a real-world text dataset, AG_NEWS, in PyTorch.\n",
    "    - Gain hands-on experience in defining, training, and evaluating a text classification model in PyTorch.\n",
    "    \n",
    "<br>\n",
    "\n",
    "- Instructions:\n",
    "    - Data Preparation: Starter code will be provided that loads the AG_NEWS dataset and prepares it for training. Do not modify this part. However, you should be sure to understand it, and comment it, the use of markdown cells is suggested. \n",
    "\n",
    "    - Model Setup: A skeleton code for the RNN model class will be provided. Complete this class and use it to instantiate your model.\n",
    "\n",
    "    - Implementing Accuracy Function: Write a function that takes model predictions and ground truth labels as input and returns the model's accuracy.\n",
    "\n",
    "    - Training Function: Implement a function that performs training on the given model using the AG_NEWS dataset. Your model should achieve an accuracy of at least 80% to get full marks for this part.\n",
    "\n",
    "    - Text Sampling: Write a function that takes a sample text as input and classifies it using your trained model.\n",
    "\n",
    "    - Confusion Matrix: Implement a function to display the confusion matrix for your model on the test data.\n",
    "\n",
    "    - Submission: Submit your completed Jupyter Notebook. Make sure to include a markdown cell at the beginning of the notebook that lists the names of all team members. Teams should consist of 3 to 4 members.\n",
    "    \n",
    "<br>\n",
    "\n",
    "- Evaluation Criteria:\n",
    "\n",
    "    - Correct setup of all the required libraries and modules (10%)\n",
    "    - Code Quality (30%): Your code should be well-organized, clearly commented, and easy to follow. Use also markdown cells for clarity. Comments should be given for all the provided code, this will help you understand its functionality.\n",
    "    \n",
    "   - Functionality (60%): \n",
    "        - All the functions should execute without errors and provide the expected outputs.\n",
    "        - RNN model class (20%)\n",
    "        - Accuracy fucntion (10%)\n",
    "        - Training function (10%)\n",
    "        - Sampling function (10%)\n",
    "        - Confucion matrix (10%)\n",
    "\n",
    "        - The model should achieve at least an 80% accuracy on the AG_NEWS test set for full marks in this criterion.\n"
   ]
  },
  {
   "cell_type": "markdown",
   "id": "4de318da",
   "metadata": {},
   "source": [
    "Dataset\n",
    "\n",
    "https://pytorch.org/text/stable/datasets.html#text-classification\n",
    "\n",
    "https://paperswithcode.com/dataset/ag-news\n"
   ]
  },
  {
   "cell_type": "markdown",
   "id": "4a9801f9",
   "metadata": {},
   "source": [
    "### Import libraries"
   ]
  },
  {
   "cell_type": "code",
   "execution_count": 1,
   "id": "54394f53",
   "metadata": {
    "tags": []
   },
   "outputs": [],
   "source": [
    "# conda install -c pytorch torchtext\n",
    "# conda install -c pytorch torchdata\n",
    "# conda install pytorch torchvision torchaudio cudatoolkit=10.2 -c pytorch"
   ]
  },
  {
   "cell_type": "code",
   "execution_count": 2,
   "id": "878b524f",
   "metadata": {
    "tags": []
   },
   "outputs": [],
   "source": [
    "# The following libraries are required for running the given code\n",
    "# Please feel free to add any libraries you consider adecuate to complete the assingment.\n",
    "import numpy as np\n",
    "#PyTorch libraries\n",
    "import torch\n",
    "from torchtext.datasets import AG_NEWS\n",
    "# Dataloader library\n",
    "from torch.utils.data import DataLoader\n",
    "from torch.utils.data.dataset import random_split\n",
    "# Libraries to prepare the data\n",
    "from torchtext.data.utils import get_tokenizer\n",
    "from torchtext.vocab import build_vocab_from_iterator\n",
    "from torchtext.data.functional import to_map_style_dataset\n",
    "# neural layers\n",
    "from torch import nn\n",
    "from torch.nn import functional as F\n",
    "\n",
    "# These libraries are suggested to plot confusion matrix\n",
    "# you may use others\n",
    "#import scikitplot as skplt\n",
    "#import gc"
   ]
  },
  {
   "cell_type": "code",
   "execution_count": 3,
   "id": "3bab55f3",
   "metadata": {
    "tags": []
   },
   "outputs": [
    {
     "name": "stdout",
     "output_type": "stream",
     "text": [
      "cpu\n"
     ]
    }
   ],
   "source": [
    "# Use GPU if available\n",
    "device = torch.device(\"cuda\" if torch.cuda.is_available() else \"cpu\")\n",
    "print(device)"
   ]
  },
  {
   "cell_type": "markdown",
   "id": "3d38956d",
   "metadata": {},
   "source": [
    "### Get the train and the test datasets and dataloaders"
   ]
  },
  {
   "cell_type": "markdown",
   "id": "e9c6b784",
   "metadata": {},
   "source": [
    "Classes:\n",
    "\n",
    "* 1 - World\n",
    "\n",
    "* 2 - Sports\n",
    "\n",
    "* 3 - Business\n",
    "\n",
    "* 4 - Sci/Tech\n",
    "\n",
    "We will convert them to:\n",
    "\n",
    "* 0 - World\n",
    "\n",
    "* 1 - Sports\n",
    "\n",
    "* 2 - Business\n",
    "\n",
    "* 3 - Sci/Tech"
   ]
  },
  {
   "cell_type": "code",
   "execution_count": 4,
   "id": "49fbed19",
   "metadata": {
    "tags": []
   },
   "outputs": [],
   "source": [
    "train_dataset, test_dataset = AG_NEWS()\n",
    "train_dataset, test_dataset = to_map_style_dataset(train_dataset), to_map_style_dataset(test_dataset)"
   ]
  },
  {
   "cell_type": "code",
   "execution_count": 5,
   "id": "9c372eb9",
   "metadata": {
    "tags": []
   },
   "outputs": [],
   "source": [
    "# Get the tokeniser\n",
    "# tokeniser object\n",
    "tokeniser = get_tokenizer('basic_english')\n",
    "\n",
    "def yield_tokens(data):\n",
    "    for _, text in data:\n",
    "        yield tokeniser(text)"
   ]
  },
  {
   "cell_type": "code",
   "execution_count": 6,
   "id": "794d0375",
   "metadata": {
    "tags": []
   },
   "outputs": [],
   "source": [
    "# Build the vocabulary\n",
    "vocab = build_vocab_from_iterator(yield_tokens(train_dataset), specials=[\"<unk>\"])\n",
    "#set unknown token at position 0\n",
    "vocab.set_default_index(vocab[\"<unk>\"])"
   ]
  },
  {
   "cell_type": "code",
   "execution_count": 7,
   "id": "b48268d4",
   "metadata": {
    "tags": []
   },
   "outputs": [
    {
     "name": "stdout",
     "output_type": "stream",
     "text": [
      "['welcome', 'to', 'te3007'] [3314, 4, 0]\n"
     ]
    }
   ],
   "source": [
    "#test tokens\n",
    "tokens = tokeniser('Welcome to TE3007')\n",
    "print(tokens, vocab(tokens))"
   ]
  },
  {
   "cell_type": "code",
   "execution_count": 8,
   "id": "c8c8f6a6",
   "metadata": {
    "tags": []
   },
   "outputs": [],
   "source": [
    "NUM_TRAIN = int(len(train_dataset)*0.9)\n",
    "NUM_VAL = len(train_dataset) - NUM_TRAIN"
   ]
  },
  {
   "cell_type": "code",
   "execution_count": 9,
   "id": "8290895e",
   "metadata": {
    "tags": []
   },
   "outputs": [],
   "source": [
    "train_dataset, val_dataset = random_split(train_dataset, [NUM_TRAIN, NUM_VAL])"
   ]
  },
  {
   "cell_type": "code",
   "execution_count": 10,
   "id": "cbc75b54",
   "metadata": {
    "tags": []
   },
   "outputs": [
    {
     "name": "stdout",
     "output_type": "stream",
     "text": [
      "108000 12000 7600\n"
     ]
    }
   ],
   "source": [
    "print(len(train_dataset), len(val_dataset), len(test_dataset))"
   ]
  },
  {
   "cell_type": "code",
   "execution_count": 11,
   "id": "ffdbf077",
   "metadata": {
    "tags": []
   },
   "outputs": [],
   "source": [
    "# function passed to the DataLoader to process a batch of data as indicated\n",
    "def collate_batch(batch):\n",
    "    # Get label and text\n",
    "    y, x = list(zip(*batch))\n",
    "    \n",
    "    # Create list with indices from tokeniser\n",
    "    x = [vocab(tokeniser(text)) for text in x]\n",
    "    x = [t + ([0]*(max_tokens - len(t))) if len(t) < max_tokens else t[:max_tokens] for t in x]\n",
    "\n",
    "    # Prepare the labels, by subtracting 1 to get them in the range 0-3\n",
    "    return torch.tensor(x, dtype=torch.int32), torch.tensor(y, dtype=torch.int32) - 1"
   ]
  },
  {
   "cell_type": "code",
   "execution_count": 12,
   "id": "5eb459c7",
   "metadata": {
    "tags": []
   },
   "outputs": [],
   "source": [
    "labels =  [\"World\", \"Sports\", \"Business\", \"Sci/Tech\"]\n",
    "max_tokens = 50\n",
    "BATCH_SIZE = 256"
   ]
  },
  {
   "cell_type": "code",
   "execution_count": 13,
   "id": "0a55e6ee",
   "metadata": {
    "tags": []
   },
   "outputs": [],
   "source": [
    "train_loader = DataLoader(train_dataset, batch_size=BATCH_SIZE, collate_fn=collate_batch, shuffle = True)\n",
    "val_loader = DataLoader(val_dataset, batch_size=BATCH_SIZE, collate_fn=collate_batch, shuffle = True)\n",
    "test_loader = DataLoader(test_dataset, batch_size=BATCH_SIZE, collate_fn=collate_batch, shuffle = True)"
   ]
  },
  {
   "cell_type": "markdown",
   "id": "47b98898",
   "metadata": {},
   "source": [
    "### Let us build our RNN model"
   ]
  },
  {
   "cell_type": "code",
   "execution_count": 14,
   "id": "50f20793",
   "metadata": {
    "tags": []
   },
   "outputs": [],
   "source": [
    "EMBEDDING_SIZE = 300# complete\n",
    "NEURONS = 256# complete\n",
    "LAYERS = 2# complete\n",
    "NUM_CLASSES = 4# complete"
   ]
  },
  {
   "cell_type": "code",
   "execution_count": null,
   "id": "0f7f5621",
   "metadata": {},
   "outputs": [],
   "source": [
    "# Define a class for the RNN model which inherits from nn.Module.\n",
    "class RNN_Model_1(nn.Module):\n",
    "    # Sets up the model architecture with the given parameters.\n",
    "    def __init__(self, embed_size, hidden, layers, num_classes):\n",
    "\n",
    "         # Initialize the superclass nn.Module.\n",
    "        super().__init__()\n",
    "\n",
    "        # Turns word indexes into embeddings of specified size.\n",
    "        # len(vocab) specifies the total number of embeddings to create, one for each word.\n",
    "        self.embedding_layer = nn.Embedding(num_embeddings=len(vocab),\n",
    "                                            embedding_dim=embed_size)\n",
    "\n",
    "        # A GRU model used\n",
    "        # input_size = size of the input\n",
    "        # hidden_size = size of the model hidden section\n",
    "        # num_layers = number of stacked GRU layers.\n",
    "        # batch_first = indicates that the input will have the batch dimension first\n",
    "        # bidirectional = the GRU will process the input in both directions\n",
    "        self.rnn = nn.GRU(input_size = embed_size,\n",
    "                          hidden_size = hidden,\n",
    "                          num_layers = layers,\n",
    "                          batch_first = True,\n",
    "                          bidirectional= True)\n",
    "\n",
    "        # FCN that maps the RNN outputs to the number of classes\n",
    "        # 2*hidden is used because the GRU is bidirectional, so it concatenates the hidden states from both directions\n",
    "        self.fc = nn.Linear(in_features=2*hidden,out_features=num_classes)\n",
    "\n",
    "    # Fordward propagation function\n",
    "    def forward(self, x):\n",
    "\n",
    "        # Pass the input through the embedding layer\n",
    "        vector_embs = self.embedding_layer(x)\n",
    "\n",
    "        # Pass the embeddings to the GRU layer\n",
    "        # 'y' are the output features from the last layer of the GRU for each timestep\n",
    "        # 'h' are the hidden states for each layer at the last timestep\n",
    "        y,h = self.rnn(vector_embs)\n",
    "\n",
    "        # Pass the final output features through the fully connected layer\n",
    "        # selects the features from the last timestep of the GRU model\n",
    "        return self.fc(y[:,-1])"
   ]
  },
  {
   "cell_type": "code",
   "execution_count": null,
   "id": "2a42613f",
   "metadata": {
    "code_folding": []
   },
   "outputs": [],
   "source": [
    "# Define a function to calculate accuracy\n",
    "def accuracy(model, loader):\n",
    "\n",
    "    #Switch the model to evaluation mode\n",
    "    model.eval()\n",
    "\n",
    "    # Move the model to the appropriate device CPU or GPU\n",
    "    model = model.to(device = device)\n",
    "\n",
    "    # Initialize 'correct' as a counter for the number of correct predictions\n",
    "    # Initialize  'total' as a counter for the total number of samples processed\n",
    "    correct = 0\n",
    "    total = 0\n",
    "\n",
    "    # Disable gradient computation not needed during model evaluation\n",
    "    with torch.no_grad():\n",
    "\n",
    "        # Loop over all batches of data in loader.\n",
    "        for data in loader:\n",
    "\n",
    "            # Loads input data and labels in the device\n",
    "            inputs, labels = data[0].to(device), data[1].to(device)\n",
    "\n",
    "             # Pass the input data to the model to get predictions\n",
    "            outputs = model(inputs)\n",
    "\n",
    "            # Search the class with the highest predicted probability\n",
    "            _, predicted = torch.max(outputs, 1)\n",
    "\n",
    "            # Increment the total count by the number of samples in the current batch\n",
    "            total += labels.size(0)\n",
    "\n",
    "            # Increment the correct count by the number of accurately predicted samples in the current batch\n",
    "            correct += (predicted == labels).sum().item()\n",
    "\n",
    "    # Calculate the accuracy as the percentage of correct predictions out of all samples\n",
    "    accuracy = 100 * correct / total\n",
    "    return accuracy"
   ]
  },
  {
   "cell_type": "code",
   "execution_count": null,
   "id": "1ddc6a43-71e4-4b72-8f27-2a4ca8aff9db",
   "metadata": {
    "code_folding": []
   },
   "outputs": [],
   "source": [
    "def accuracyLucero(model, loader):\n",
    "    model.eval()\n",
    "    correct = 0\n",
    "    total = 0\n",
    "    with torch.no_grad():\n",
    "        for data in loader:\n",
    "            inputs, labels = data[0].to(device), data[1].to(device)\n",
    "            outputs = model(inputs)\n",
    "            _, predicted = torch.max(outputs, 1)\n",
    "            correct_tensor = predicted.eq(labels.data.view_as(predicted))\n",
    "            accuracy = torch.mean(\n",
    "                        correct_tensor.type(torch.FloatTensor))\n",
    "    return accuracy"
   ]
  },
  {
   "cell_type": "code",
   "execution_count": null,
   "id": "5e843e1f",
   "metadata": {
    "code_folding": []
   },
   "outputs": [],
   "source": [
    "def accuracyLucero(model, loader):\n",
    "    model.eval()\n",
    "    correct = 0\n",
    "    total = 0\n",
    "    with torch.no_grad():\n",
    "        for data in loader:\n",
    "            inputs, labels = data[0].to(device), data[1].to(device)\n",
    "            outputs = model(inputs)\n",
    "            _, predicted = torch.max(outputs, 1)\n",
    "            correct_tensor = predicted.eq(labels.data.view_as(predicted))\n",
    "            accuracy = torch.mean(\n",
    "                        correct_tensor.type(torch.FloatTensor))\n",
    "    return accuracy"
   ]
  },
  {
   "cell_type": "code",
   "execution_count": null,
   "id": "87775b29",
   "metadata": {},
   "outputs": [],
   "source": [
    "def accuracyLucero(model, loader):\n",
    "    model.eval()\n",
    "    correct = 0\n",
    "    total = 0\n",
    "    with torch.no_grad():\n",
    "        for data in loader:\n",
    "            inputs, labels = data[0].to(device), data[1].to(device)\n",
    "            outputs = model(inputs)\n",
    "            _, predicted = torch.max(outputs, 1)\n",
    "            correct_tensor = predicted.eq(labels.data.view_as(predicted))\n",
    "            accuracy = torch.mean(\n",
    "                        correct_tensor.type(torch.FloatTensor))\n",
    "    return accuracy"
   ]
  },
  {
   "cell_type": "code",
   "execution_count": null,
   "id": "aec12a1b",
   "metadata": {
    "scrolled": true
   },
   "outputs": [],
   "source": [
    "train(gru_model, optimiser=optimiser,  epochs=epochs)"
   ]
  },
  {
   "cell_type": "code",
   "execution_count": null,
   "id": "7a3ef175",
   "metadata": {},
   "outputs": [],
   "source": [
    "print(f'{accuracy(gru_model, test_loader):.4f}')"
   ]
  },
  {
   "cell_type": "code",
   "execution_count": null,
   "id": "ed30693d",
   "metadata": {},
   "outputs": [],
   "source": [
    "def sample_text(model, loader):\n",
    "    pass"
   ]
  },
  {
   "cell_type": "code",
   "execution_count": null,
   "id": "534f0220",
   "metadata": {},
   "outputs": [],
   "source": [
    "sample_text(rnn_model, test_loader)"
   ]
  },
  {
   "cell_type": "code",
   "execution_count": null,
   "id": "bb38e093",
   "metadata": {},
   "outputs": [],
   "source": [
    "# create confusion matrix\n",
    "pass"
   ]
  },
  {
   "cell_type": "code",
   "execution_count": null,
   "id": "e7d73f69",
   "metadata": {},
   "outputs": [],
   "source": []
  },
  {
   "cell_type": "code",
   "execution_count": null,
   "id": "5327e204",
   "metadata": {},
   "outputs": [],
   "source": []
  },
  {
   "cell_type": "code",
   "execution_count": null,
   "id": "7bc921f9",
   "metadata": {},
   "outputs": [],
   "source": []
  },
  {
   "cell_type": "code",
   "execution_count": null,
   "id": "ed62b0d5",
   "metadata": {},
   "outputs": [],
   "source": []
  },
  {
   "cell_type": "code",
   "execution_count": null,
   "id": "1c82cfd3",
   "metadata": {},
   "outputs": [],
   "source": []
  }
 ],
 "metadata": {
  "kernelspec": {
   "display_name": "Python 3 (ipykernel)",
   "language": "python",
   "name": "python3"
  },
  "language_info": {
   "codemirror_mode": {
    "name": "ipython",
    "version": 3
   },
   "file_extension": ".py",
   "mimetype": "text/x-python",
   "name": "python",
   "nbconvert_exporter": "python",
   "pygments_lexer": "ipython3",
   "version": "3.11.4"
  },
  "varInspector": {
   "cols": {
    "lenName": 16,
    "lenType": 16,
    "lenVar": 40
   },
   "kernels_config": {
    "python": {
     "delete_cmd_postfix": "",
     "delete_cmd_prefix": "del ",
     "library": "var_list.py",
     "varRefreshCmd": "print(var_dic_list())"
    },
    "r": {
     "delete_cmd_postfix": ") ",
     "delete_cmd_prefix": "rm(",
     "library": "var_list.r",
     "varRefreshCmd": "cat(var_dic_list()) "
    }
   },
   "types_to_exclude": [
    "module",
    "function",
    "builtin_function_or_method",
    "instance",
    "_Feature"
   ],
   "window_display": false
  }
 },
 "nbformat": 4,
 "nbformat_minor": 5
}
