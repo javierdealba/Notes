{
  "nbformat": 4,
  "nbformat_minor": 0,
  "metadata": {
    "colab": {
      "provenance": []
    },
    "kernelspec": {
      "name": "python3",
      "display_name": "Python 3"
    },
    "language_info": {
      "name": "python"
    }
  },
  "cells": [
    {
      "cell_type": "markdown",
      "source": [
        "Javier de Alba Pérez\n",
        "\n",
        "A01226046\n",
        "\n",
        "9 de marzo de 2023\n",
        "\n",
        "Programa de uso del API de traducción"
      ],
      "metadata": {
        "id": "_c6EcJPD0lqz"
      }
    },
    {
      "cell_type": "code",
      "execution_count": 1,
      "metadata": {
        "colab": {
          "base_uri": "https://localhost:8080/"
        },
        "id": "Pz00wEDK0MiZ",
        "outputId": "84c707f8-da49-455c-d28c-1d375a1e6543"
      },
      "outputs": [
        {
          "output_type": "stream",
          "name": "stdout",
          "text": [
            "Looking in indexes: https://pypi.org/simple, https://us-python.pkg.dev/colab-wheels/public/simple/\n",
            "Requirement already satisfied: google-cloud-translate in /usr/local/lib/python3.8/dist-packages (3.8.4)\n",
            "Requirement already satisfied: protobuf!=3.20.0,!=3.20.1,!=4.21.0,!=4.21.1,!=4.21.2,!=4.21.3,!=4.21.4,!=4.21.5,<5.0.0dev,>=3.19.5 in /usr/local/lib/python3.8/dist-packages (from google-cloud-translate) (3.19.6)\n",
            "Requirement already satisfied: google-api-core[grpc]!=2.0.*,!=2.1.*,!=2.2.*,!=2.3.*,!=2.4.*,!=2.5.*,!=2.6.*,!=2.7.*,<3.0.0dev,>=1.32.0 in /usr/local/lib/python3.8/dist-packages (from google-cloud-translate) (2.11.0)\n",
            "Requirement already satisfied: proto-plus<2.0.0dev,>=1.22.0 in /usr/local/lib/python3.8/dist-packages (from google-cloud-translate) (1.22.2)\n",
            "Requirement already satisfied: google-cloud-core<3.0.0dev,>=1.3.0 in /usr/local/lib/python3.8/dist-packages (from google-cloud-translate) (2.3.2)\n",
            "Requirement already satisfied: google-auth<3.0dev,>=2.14.1 in /usr/local/lib/python3.8/dist-packages (from google-api-core[grpc]!=2.0.*,!=2.1.*,!=2.2.*,!=2.3.*,!=2.4.*,!=2.5.*,!=2.6.*,!=2.7.*,<3.0.0dev,>=1.32.0->google-cloud-translate) (2.16.1)\n",
            "Requirement already satisfied: googleapis-common-protos<2.0dev,>=1.56.2 in /usr/local/lib/python3.8/dist-packages (from google-api-core[grpc]!=2.0.*,!=2.1.*,!=2.2.*,!=2.3.*,!=2.4.*,!=2.5.*,!=2.6.*,!=2.7.*,<3.0.0dev,>=1.32.0->google-cloud-translate) (1.58.0)\n",
            "Requirement already satisfied: requests<3.0.0dev,>=2.18.0 in /usr/local/lib/python3.8/dist-packages (from google-api-core[grpc]!=2.0.*,!=2.1.*,!=2.2.*,!=2.3.*,!=2.4.*,!=2.5.*,!=2.6.*,!=2.7.*,<3.0.0dev,>=1.32.0->google-cloud-translate) (2.25.1)\n",
            "Requirement already satisfied: grpcio-status<2.0dev,>=1.33.2 in /usr/local/lib/python3.8/dist-packages (from google-api-core[grpc]!=2.0.*,!=2.1.*,!=2.2.*,!=2.3.*,!=2.4.*,!=2.5.*,!=2.6.*,!=2.7.*,<3.0.0dev,>=1.32.0->google-cloud-translate) (1.48.2)\n",
            "Requirement already satisfied: grpcio<2.0dev,>=1.33.2 in /usr/local/lib/python3.8/dist-packages (from google-api-core[grpc]!=2.0.*,!=2.1.*,!=2.2.*,!=2.3.*,!=2.4.*,!=2.5.*,!=2.6.*,!=2.7.*,<3.0.0dev,>=1.32.0->google-cloud-translate) (1.51.3)\n",
            "Requirement already satisfied: six>=1.9.0 in /usr/local/lib/python3.8/dist-packages (from google-auth<3.0dev,>=2.14.1->google-api-core[grpc]!=2.0.*,!=2.1.*,!=2.2.*,!=2.3.*,!=2.4.*,!=2.5.*,!=2.6.*,!=2.7.*,<3.0.0dev,>=1.32.0->google-cloud-translate) (1.15.0)\n",
            "Requirement already satisfied: cachetools<6.0,>=2.0.0 in /usr/local/lib/python3.8/dist-packages (from google-auth<3.0dev,>=2.14.1->google-api-core[grpc]!=2.0.*,!=2.1.*,!=2.2.*,!=2.3.*,!=2.4.*,!=2.5.*,!=2.6.*,!=2.7.*,<3.0.0dev,>=1.32.0->google-cloud-translate) (5.3.0)\n",
            "Requirement already satisfied: rsa<5,>=3.1.4 in /usr/local/lib/python3.8/dist-packages (from google-auth<3.0dev,>=2.14.1->google-api-core[grpc]!=2.0.*,!=2.1.*,!=2.2.*,!=2.3.*,!=2.4.*,!=2.5.*,!=2.6.*,!=2.7.*,<3.0.0dev,>=1.32.0->google-cloud-translate) (4.9)\n",
            "Requirement already satisfied: pyasn1-modules>=0.2.1 in /usr/local/lib/python3.8/dist-packages (from google-auth<3.0dev,>=2.14.1->google-api-core[grpc]!=2.0.*,!=2.1.*,!=2.2.*,!=2.3.*,!=2.4.*,!=2.5.*,!=2.6.*,!=2.7.*,<3.0.0dev,>=1.32.0->google-cloud-translate) (0.2.8)\n",
            "Requirement already satisfied: idna<3,>=2.5 in /usr/local/lib/python3.8/dist-packages (from requests<3.0.0dev,>=2.18.0->google-api-core[grpc]!=2.0.*,!=2.1.*,!=2.2.*,!=2.3.*,!=2.4.*,!=2.5.*,!=2.6.*,!=2.7.*,<3.0.0dev,>=1.32.0->google-cloud-translate) (2.10)\n",
            "Requirement already satisfied: certifi>=2017.4.17 in /usr/local/lib/python3.8/dist-packages (from requests<3.0.0dev,>=2.18.0->google-api-core[grpc]!=2.0.*,!=2.1.*,!=2.2.*,!=2.3.*,!=2.4.*,!=2.5.*,!=2.6.*,!=2.7.*,<3.0.0dev,>=1.32.0->google-cloud-translate) (2022.12.7)\n",
            "Requirement already satisfied: urllib3<1.27,>=1.21.1 in /usr/local/lib/python3.8/dist-packages (from requests<3.0.0dev,>=2.18.0->google-api-core[grpc]!=2.0.*,!=2.1.*,!=2.2.*,!=2.3.*,!=2.4.*,!=2.5.*,!=2.6.*,!=2.7.*,<3.0.0dev,>=1.32.0->google-cloud-translate) (1.24.3)\n",
            "Requirement already satisfied: chardet<5,>=3.0.2 in /usr/local/lib/python3.8/dist-packages (from requests<3.0.0dev,>=2.18.0->google-api-core[grpc]!=2.0.*,!=2.1.*,!=2.2.*,!=2.3.*,!=2.4.*,!=2.5.*,!=2.6.*,!=2.7.*,<3.0.0dev,>=1.32.0->google-cloud-translate) (4.0.0)\n",
            "Requirement already satisfied: pyasn1<0.5.0,>=0.4.6 in /usr/local/lib/python3.8/dist-packages (from pyasn1-modules>=0.2.1->google-auth<3.0dev,>=2.14.1->google-api-core[grpc]!=2.0.*,!=2.1.*,!=2.2.*,!=2.3.*,!=2.4.*,!=2.5.*,!=2.6.*,!=2.7.*,<3.0.0dev,>=1.32.0->google-cloud-translate) (0.4.8)\n"
          ]
        }
      ],
      "source": [
        "!pip install google-cloud-translate"
      ]
    },
    {
      "cell_type": "code",
      "source": [
        "from google.cloud import translate_v2 as translate\n",
        "import os, json\n",
        "os.environ['GOOGLE_APPLICATION_CREDENTIALS'] = \"credentials.json\"\n",
        "\n",
        "# El API está inicializando el objeto cliente de translate_v2 de google cloud\n",
        "translate_client = translate.Client()\n",
        "\n",
        "# Este código detecta el lenguaje en el que está redactado el texto que se pasa como argumento\n",
        "detected_res = translate_client.detect_language('Fantastisk arbeid')\n",
        "print(detected_res)\n",
        "\n",
        "# Este código traduce el texto del primer argumento al idioma definido en clave en el segundo argumento\n",
        "trans_res = translate_client.translate('Fantastisk arbeid', 'es')\n",
        "print(trans_res)"
      ],
      "metadata": {
        "colab": {
          "base_uri": "https://localhost:8080/"
        },
        "id": "IgBpksZO1fqi",
        "outputId": "ac4f081b-7ba5-4769-a2dd-0382e397b877"
      },
      "execution_count": 3,
      "outputs": [
        {
          "output_type": "stream",
          "name": "stdout",
          "text": [
            "{'language': 'no', 'confidence': 1, 'input': 'Fantastisk arbeid'}\n",
            "{'translatedText': 'Fantástico trabajo', 'detectedSourceLanguage': 'no', 'input': 'Fantastisk arbeid'}\n"
          ]
        }
      ]
    },
    {
      "cell_type": "code",
      "source": [
        "def traducir(texto, idiom=\"es\"):\n",
        "  idioma = idiom\n",
        "  detected_res = translate_client.detect_language(texto)\n",
        "  print(detected_res)\n",
        "  trans_res = translate_client.translate(texto, idioma)\n",
        "  print(trans_res)\n",
        "\n",
        "traducir(\"Joyeux anniversaire !\")\n",
        "traducir(\"Je m'appel Javier\")\n",
        "traducir(\"Molto grazie\")\n",
        "traducir(\"Tengo mucho sin hablar francés\", idiom=\"fr\")"
      ],
      "metadata": {
        "colab": {
          "base_uri": "https://localhost:8080/"
        },
        "id": "x95mo5td3CxG",
        "outputId": "b37a9a15-9064-44b3-d369-e8c2675cd3bc"
      },
      "execution_count": 5,
      "outputs": [
        {
          "output_type": "stream",
          "name": "stdout",
          "text": [
            "{'language': 'fr', 'confidence': 1, 'input': 'Joyeux anniversaire !'}\n",
            "{'translatedText': 'Feliz cumpleaños !', 'detectedSourceLanguage': 'fr', 'input': 'Joyeux anniversaire !'}\n",
            "{'language': 'fr', 'confidence': 0.832423746585846, 'input': \"Je m'appel Javier\"}\n",
            "{'translatedText': 'mi nombre es Javier', 'detectedSourceLanguage': 'fr', 'input': \"Je m'appel Javier\"}\n",
            "{'confidence': 1, 'language': 'it', 'input': 'Molto grazie'}\n",
            "{'translatedText': 'Muchas gracias', 'detectedSourceLanguage': 'it', 'input': 'Molto grazie'}\n",
            "{'language': 'es', 'confidence': 1, 'input': 'Tengo mucho sin hablar francés'}\n",
            "{'translatedText': 'j&#39;en ai beaucoup sans parler français', 'detectedSourceLanguage': 'es', 'input': 'Tengo mucho sin hablar francés'}\n"
          ]
        }
      ]
    }
  ]
}