{
  "nbformat": 4,
  "nbformat_minor": 0,
  "metadata": {
    "colab": {
      "provenance": [],
      "authorship_tag": "ABX9TyOfL8uheIs1Xawf/oUpMeQ1",
      "include_colab_link": true
    },
    "kernelspec": {
      "name": "python3",
      "display_name": "Python 3"
    },
    "language_info": {
      "name": "python"
    }
  },
  "cells": [
    {
      "cell_type": "markdown",
      "metadata": {
        "id": "view-in-github",
        "colab_type": "text"
      },
      "source": [
        "<a href=\"https://colab.research.google.com/github/javierdealba/Notes/blob/main/Prueba_imagenes_MS_azure.ipynb\" target=\"_parent\"><img src=\"https://colab.research.google.com/assets/colab-badge.svg\" alt=\"Open In Colab\"/></a>"
      ]
    },
    {
      "cell_type": "code",
      "execution_count": 5,
      "metadata": {
        "colab": {
          "base_uri": "https://localhost:8080/"
        },
        "id": "MZ2ns4qT9dkk",
        "outputId": "8f2809cb-1811-4671-e363-50f3f8533ed7"
      },
      "outputs": [
        {
          "output_type": "stream",
          "name": "stdout",
          "text": [
            "[{\"faceRectangle\": {\"top\": 159, \"left\": 118, \"width\": 94, \"height\": 94}}, {\"faceRectangle\": {\"top\": 111, \"left\": 492, \"width\": 90, \"height\": 90}}, {\"faceRectangle\": {\"top\": 153, \"left\": 18, \"width\": 84, \"height\": 84}}, {\"faceRectangle\": {\"top\": 166, \"left\": 386, \"width\": 81, \"height\": 81}}, {\"faceRectangle\": {\"top\": 158, \"left\": 235, \"width\": 76, \"height\": 76}}, {\"faceRectangle\": {\"top\": 163, \"left\": 323, \"width\": 68, \"height\": 68}}]\n"
          ]
        }
      ],
      "source": [
        "import json, os, requests\n",
        "\n",
        "# La clave generada por Azure\n",
        "subscription_key = \"ff6e1653431840e2b0331a182373a96c\"\n",
        "\n",
        "# El url del servicio en nuestra cuenta de Azure\n",
        "face_api_url = \"https://facerecognitionjdap.cognitiveservices.azure.com/\" + \"face/v1.0/detect\"\n",
        "\n",
        "# El url de la imagen que se utilizará\n",
        "image_url = \"https://github.com/ecendejas/imgMNA/blob/main/faces.jpg?raw=true\"\n",
        "\n",
        "# Se crea el diccionario con el tipo de llave y la contraseña\n",
        "headers = {\"Ocp-Apim-Subscription-Key\": subscription_key}\n",
        "\n",
        "# Se establecen los parámetros requeridos por la función de respuesta\n",
        "params = {\n",
        "    \"returnFaceId\": \"false\",\n",
        "    \"returnFaceLandmarks\": \"false\",\n",
        "}\n",
        "\n",
        "# Se hace una solicitud al url deseado con los parámetros y llaves deseadas\n",
        "# Luego se imprime el .json generado\n",
        "response = requests.post(face_api_url, params=params, headers=headers, json={\"url\": image_url})\n",
        "print(json.dumps(response.json()))"
      ]
    },
    {
      "cell_type": "code",
      "source": [
        "image_url2 = \"https://encrypted-tbn0.gstatic.com/images?q=tbn:ANd9GcR-gJu3eEz-LRjbHppvX-_BCFd-ZR0eRnnDiA&usqp=CAU\"\n",
        "image_url3 = \"https://bluemanhoop.com/wp-content/uploads/getty-images/2017/07/1142055801.jpeg\"\n",
        "\n",
        "response = requests.post(face_api_url, params=params, headers=headers, json={\"url\": image_url2})\n",
        "print(json.dumps(response.json()))\n",
        "response = requests.post(face_api_url, params=params, headers=headers, json={\"url\": image_url3})\n",
        "print(json.dumps(response.json()))"
      ],
      "metadata": {
        "colab": {
          "base_uri": "https://localhost:8080/"
        },
        "id": "U2DNwSdGEcrE",
        "outputId": "1a554eed-56a3-4ac2-f762-1d39d0e302d7"
      },
      "execution_count": 6,
      "outputs": [
        {
          "output_type": "stream",
          "name": "stdout",
          "text": [
            "[{\"faceRectangle\": {\"top\": 50, \"left\": 117, \"width\": 39, \"height\": 39}}]\n",
            "[{\"faceRectangle\": {\"top\": 212, \"left\": 1068, \"width\": 275, \"height\": 275}}, {\"faceRectangle\": {\"top\": 500, \"left\": 2042, \"width\": 214, \"height\": 214}}]\n"
          ]
        }
      ]
    },
    {
      "cell_type": "markdown",
      "source": [
        "Lo que regresa este servicio son 4 valores, lo cuales corresponden a la coordenada superior izquierda del rectàngulo que se formaría rodeando cada cara de la imagen, más el largo y ancho de dicho rectángulo."
      ],
      "metadata": {
        "id": "ktgyF7UGE5VC"
      }
    },
    {
      "cell_type": "code",
      "source": [
        "from google.colab import drive\n",
        "drive.mount('/content/drive')\n",
        "# Change the current working directory\n",
        "os.chdir('/content/drive/MyDrive/Tec')\n",
        "\n"
      ],
      "metadata": {
        "colab": {
          "base_uri": "https://localhost:8080/"
        },
        "id": "8p-E7co-CUiP",
        "outputId": "5a064ca1-2add-4174-a04f-1ee1af896b8c"
      },
      "execution_count": 4,
      "outputs": [
        {
          "output_type": "stream",
          "name": "stdout",
          "text": [
            "Mounted at /content/drive\n",
            "Current working directory: /content\n",
            "Current working directory: /content/drive/MyDrive/Tec\n"
          ]
        }
      ]
    },
    {
      "cell_type": "code",
      "source": [
        "import cv2\n",
        "\n",
        "img = cv2.imread(\"/data/faces.jpg\")\n",
        "\n",
        "img.imshow()"
      ],
      "metadata": {
        "colab": {
          "base_uri": "https://localhost:8080/",
          "height": 191
        },
        "id": "UW6wjeOXFdGH",
        "outputId": "e3ddbe67-4def-4db5-9f58-8f806164c2cf"
      },
      "execution_count": 9,
      "outputs": [
        {
          "output_type": "error",
          "ename": "AttributeError",
          "evalue": "ignored",
          "traceback": [
            "\u001b[0;31m---------------------------------------------------------------------------\u001b[0m",
            "\u001b[0;31mAttributeError\u001b[0m                            Traceback (most recent call last)",
            "\u001b[0;32m<ipython-input-9-1a92654608f8>\u001b[0m in \u001b[0;36m<module>\u001b[0;34m\u001b[0m\n\u001b[1;32m      3\u001b[0m \u001b[0mimg\u001b[0m \u001b[0;34m=\u001b[0m \u001b[0mcv2\u001b[0m\u001b[0;34m.\u001b[0m\u001b[0mimread\u001b[0m\u001b[0;34m(\u001b[0m\u001b[0;34m\"/data/faces.jpg\"\u001b[0m\u001b[0;34m)\u001b[0m\u001b[0;34m\u001b[0m\u001b[0;34m\u001b[0m\u001b[0m\n\u001b[1;32m      4\u001b[0m \u001b[0;34m\u001b[0m\u001b[0m\n\u001b[0;32m----> 5\u001b[0;31m \u001b[0mimg\u001b[0m\u001b[0;34m.\u001b[0m\u001b[0mimshow\u001b[0m\u001b[0;34m(\u001b[0m\u001b[0;34m)\u001b[0m\u001b[0;34m\u001b[0m\u001b[0;34m\u001b[0m\u001b[0m\n\u001b[0m",
            "\u001b[0;31mAttributeError\u001b[0m: 'NoneType' object has no attribute 'imshow'"
          ]
        }
      ]
    }
  ]
}